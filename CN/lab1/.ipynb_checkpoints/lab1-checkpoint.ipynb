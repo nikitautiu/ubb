{
 "cells": [
  {
   "cell_type": "markdown",
   "metadata": {},
   "source": [
    "# Tema laborator 1\n",
    "\n",
    "## Problema 1"
   ]
  },
  {
   "cell_type": "code",
   "execution_count": 3,
   "metadata": {},
   "outputs": [],
   "source": [
    "a, x = var('a, x')"
   ]
  },
  {
   "cell_type": "code",
   "execution_count": 4,
   "metadata": {},
   "outputs": [
    {
     "name": "stdout",
     "output_type": "stream",
     "text": [
      "-1/105*(5*x^7 - 21*x^5 + 70*x^3 - 210*x)/sqrt(pi)\n",
      "-1/21*x^7/sqrt(pi) + 1/5*x^5/sqrt(pi) - 2/3*x^3/sqrt(pi) + 2*x/sqrt(pi)\n",
      "True\n"
     ]
    }
   ],
   "source": [
    "# dexvoltam si apoi integram\n",
    "def erf_taylor_first():\n",
    "    series = taylor(exp(x), x, 0, 3)\n",
    "    t = var('t')\n",
    "    return 2/sqrt(pi) * integrate(series(x=-(t^2)), t, 0, x)\n",
    "    \n",
    "erf_taylor1 = erf_taylor_first()\n",
    "\n",
    "erf_taylor2 = erf(x).taylor(x, 0, 7)\n",
    "\n",
    "print(erf_taylor1)  # taylor series with expansion and integration\n",
    "print(erf_taylor2)  # direct taylor series on the erf\n",
    "print(bool(erf_taylor1 == erf_taylor2))  # check equivalence"
   ]
  },
  {
   "cell_type": "code",
   "execution_count": 5,
   "metadata": {},
   "outputs": [
    {
     "data": {
      "text/plain": [
       "-2/3*(2*sqrt(pi)*a^2 - sqrt(pi))*(a - x)^3*e^(-a^2)/pi - 2*(a - x)^2*a*e^(-a^2)/sqrt(pi) - 2*(a - x)*e^(-a^2)/sqrt(pi) + erf(a)"
      ]
     },
     "execution_count": 5,
     "metadata": {},
     "output_type": "execute_result"
    }
   ],
   "source": [
    "erf(x).taylor(x, a, 3)"
   ]
  },
  {
   "cell_type": "markdown",
   "metadata": {},
   "source": [
    "Seriile sunt identitce "
   ]
  },
  {
   "cell_type": "code",
   "execution_count": 6,
   "metadata": {},
   "outputs": [
    {
     "name": "stdout",
     "output_type": "stream",
     "text": [
      "0.838224524128095 0.842700792949715\n"
     ]
    }
   ],
   "source": [
    "print n(erf_taylor1(x=1)), n(erf(1))"
   ]
  },
  {
   "cell_type": "markdown",
   "metadata": {},
   "source": [
    "Rezultatele difera dupa prima zecimala\n",
    "\n",
    "## Problema 2"
   ]
  },
  {
   "cell_type": "code",
   "execution_count": 11,
   "metadata": {},
   "outputs": [
    {
     "data": {
      "text/plain": [
       "-1/8*x^8 + 1/7*x^7 - 1/6*x^6 + 1/5*x^5 - 1/4*x^4 + 1/3*x^3 - 1/2*x^2 + x"
      ]
     },
     "execution_count": 11,
     "metadata": {},
     "output_type": "execute_result"
    }
   ],
   "source": [
    "ln_series = ln(x + 1).taylor(x, 0, 8)  # dezvoltam in jurul lui 1 ca sa nu avem diferente mari\n",
    "ln_series"
   ]
  },
  {
   "cell_type": "code",
   "execution_count": 12,
   "metadata": {},
   "outputs": [
    {
     "name": "stdout",
     "output_type": "stream",
     "text": [
      "cu taylor:  -19.3142857142857\n",
      "rezultat real:  1.09861228866811\n"
     ]
    }
   ],
   "source": [
    "print 'cu taylor: ', n(ln_series(x=2))\n",
    "print 'rezultat real: ', n(ln(x+1)(x=2))"
   ]
  },
  {
   "cell_type": "markdown",
   "metadata": {},
   "source": [
    "Facem o functie pt rest in forma cauchy"
   ]
  },
  {
   "cell_type": "code",
   "execution_count": 13,
   "metadata": {},
   "outputs": [
    {
     "data": {
      "text/html": [
       "<html><script type=\"math/tex; mode=display\">\\newcommand{\\Bold}[1]{\\mathbf{#1}}\\frac{1}{9} \\, x^{9} - \\frac{1}{8} \\, x^{8} + \\frac{1}{7} \\, x^{7} - \\frac{1}{6} \\, x^{6} + \\frac{1}{5} \\, x^{5} - \\frac{1}{4} \\, x^{4} + \\frac{1}{3} \\, x^{3} - \\frac{1}{2} \\, x^{2} + x</script></html>"
      ],
      "text/plain": [
       "1/9*x^9 - 1/8*x^8 + 1/7*x^7 - 1/6*x^6 + 1/5*x^5 - 1/4*x^4 + 1/3*x^3 - 1/2*x^2 + x"
      ]
     },
     "metadata": {},
     "output_type": "display_data"
    }
   ],
   "source": [
    "show(taylor(ln(1+x), x, 0, 9))"
   ]
  },
  {
   "cell_type": "code",
   "execution_count": 15,
   "metadata": {},
   "outputs": [
    {
     "data": {
      "text/html": [
       "<html><script type=\"math/tex; mode=display\">\\newcommand{\\Bold}[1]{\\mathbf{#1}}\\frac{1}{n + 1}</script></html>"
      ],
      "text/plain": [
       "1/(n + 1)"
      ]
     },
     "metadata": {},
     "output_type": "display_data"
    }
   ],
   "source": [
    "# serie alternanta deci putem considera erroare ca termenul lipsa\n",
    "n = var('n')\n",
    "err = 1/(n+1)\n",
    "show(err)"
   ]
  },
  {
   "cell_type": "code",
   "execution_count": 18,
   "metadata": {},
   "outputs": [
    {
     "data": {
      "text/plain": [
       "[[n < -1], [n > 99999]]"
      ]
     },
     "execution_count": 18,
     "metadata": {},
     "output_type": "execute_result"
    }
   ],
   "source": [
    "# gasim n minim pt care  precizia e suficient de mare\n",
    "solve(err < 1e-5, n)"
   ]
  },
  {
   "cell_type": "code",
   "execution_count": null,
   "metadata": {},
   "outputs": [],
   "source": [
    "q"
   ]
  }
 ],
 "metadata": {
  "kernelspec": {
   "display_name": "SageMath 8.1",
   "language": "",
   "name": "sagemath"
  },
  "language_info": {
   "codemirror_mode": {
    "name": "ipython",
    "version": 2
   },
   "file_extension": ".py",
   "mimetype": "text/x-python",
   "name": "python",
   "nbconvert_exporter": "python",
   "pygments_lexer": "ipython2",
   "version": "2.7.14"
  }
 },
 "nbformat": 4,
 "nbformat_minor": 2
}
