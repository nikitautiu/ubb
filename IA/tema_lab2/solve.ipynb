{
 "cells": [
  {
   "cell_type": "markdown",
   "metadata": {},
   "source": [
    "## Tema AI - lab 2\n",
    "\n",
    "### Enunt(C2. Problema 5)\n",
    "Fiind data starea unui puzzle glisant si o stare finala, sa se afle un sir de mutari care sa duca la starea finala.\n",
    "\n",
    "### Formultare problema\n",
    "\n",
    "* **Spatiul starilor:** Totate aranjamentele posibile ale numerelor pe tabla.\n",
    "* **Transformari:** se gliseaza locul liber in sus, jos, stanga sau dreapta.\n",
    "\n",
    "### Rezolvarea problemei\n",
    "Problemase va rezolva folosind metodele BFS si GBFS."
   ]
  },
  {
   "cell_type": "code",
   "execution_count": 2,
   "metadata": {
    "collapsed": true
   },
   "outputs": [],
   "source": [
    "from solution import test_bfs, test_gbfs"
   ]
  },
  {
   "cell_type": "code",
   "execution_count": 3,
   "metadata": {
    "collapsed": false
   },
   "outputs": [
    {
     "name": "stdout",
     "output_type": "stream",
     "text": [
      "test_bfs PASSED\n"
     ]
    }
   ],
   "source": [
    "test_bfs()\n",
    "print 'test_bfs PASSED'"
   ]
  },
  {
   "cell_type": "code",
   "execution_count": 5,
   "metadata": {
    "collapsed": false
   },
   "outputs": [
    {
     "name": "stdout",
     "output_type": "stream",
     "text": [
      "test_gbfs PASSED\n"
     ]
    }
   ],
   "source": [
    "test_gbfs()\n",
    "print 'test_gbfs PASSED'"
   ]
  }
 ],
 "metadata": {
  "kernelspec": {
   "display_name": "Python 2",
   "language": "python",
   "name": "python2"
  },
  "language_info": {
   "codemirror_mode": {
    "name": "ipython",
    "version": 2
   },
   "file_extension": ".py",
   "mimetype": "text/x-python",
   "name": "python",
   "nbconvert_exporter": "python",
   "pygments_lexer": "ipython2",
   "version": "2.7.13"
  }
 },
 "nbformat": 4,
 "nbformat_minor": 2
}
