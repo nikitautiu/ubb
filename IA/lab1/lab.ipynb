{
 "cells": [
  {
   "cell_type": "markdown",
   "metadata": {},
   "source": [
    "### Problema 1"
   ]
  },
  {
   "cell_type": "code",
   "execution_count": 1,
   "metadata": {
    "collapsed": true
   },
   "outputs": [],
   "source": [
    "def longest_word(text):\n",
    "    words = text.split(' ')\n",
    "    return max(words, key=lambda x: len(x))"
   ]
  },
  {
   "cell_type": "code",
   "execution_count": 2,
   "metadata": {
    "collapsed": false
   },
   "outputs": [
    {
     "data": {
      "text/plain": [
       "'treisprezeze'"
      ]
     },
     "execution_count": 2,
     "metadata": {},
     "output_type": "execute_result"
    }
   ],
   "source": [
    "longest_word(\"Buchetul contine trei lalele si treisprezeze frezii\")"
   ]
  },
  {
   "cell_type": "code",
   "execution_count": 3,
   "metadata": {
    "collapsed": true
   },
   "outputs": [],
   "source": [
    "def test_longest_word():\n",
    "    assert(longest_word(\"Buchetul contine trei lalele si treisprezece frezii\") == \"treisprezece\")\n",
    "    assert(longest_word(\"unu doi trei\") == \"trei\")\n",
    "    assert(longest_word(\"ana are Mere\") == \"Mere\")\n",
    "    assert(longest_word(\"sase sasi in sase saci\") == \"sase\")\n",
    "    assert(longest_word(\"a a aa a b\") == \"aa\")"
   ]
  },
  {
   "cell_type": "code",
   "execution_count": 4,
   "metadata": {
    "collapsed": false
   },
   "outputs": [
    {
     "name": "stdout",
     "output_type": "stream",
     "text": [
      "test_longest_word PASSED\n"
     ]
    }
   ],
   "source": [
    "test_longest_word()\n",
    "print(\"test_longest_word PASSED\")"
   ]
  },
  {
   "cell_type": "markdown",
   "metadata": {},
   "source": [
    "### Problema 2"
   ]
  },
  {
   "cell_type": "code",
   "execution_count": 5,
   "metadata": {
    "collapsed": false
   },
   "outputs": [],
   "source": [
    "def get_word_freqs(text):\n",
    "    freqs = {}\n",
    "    words = text.split(' ')\n",
    "    for word in words:\n",
    "        freqs[word] = freqs.get(word, 0) + 1\n",
    "    return freqs"
   ]
  },
  {
   "cell_type": "code",
   "execution_count": 6,
   "metadata": {
    "collapsed": false
   },
   "outputs": [
    {
     "data": {
      "text/plain": [
       "{'cinci': 1, 'doi': 2, 'patru': 1, 'trei': 1, 'unu': 3, 'zero': 1}"
      ]
     },
     "execution_count": 6,
     "metadata": {},
     "output_type": "execute_result"
    }
   ],
   "source": [
    "get_word_freqs(\"zero unu doi trei unu patru doi unu cinci\")"
   ]
  },
  {
   "cell_type": "code",
   "execution_count": 7,
   "metadata": {
    "collapsed": false
   },
   "outputs": [],
   "source": [
    "def test_get_word_freqs():\n",
    "    res = get_word_freqs(\"zero unu doi trei unu patru doi unu cinci\")\n",
    "    assert(res == {'cinci': 1, 'doi': 2, 'patru': 1, 'trei': 1, 'unu': 3, 'zero': 1})\n",
    "    \n",
    "    res = get_word_freqs('a a a b a b c')\n",
    "    assert(res == {'a': 4, 'b': 2, 'c': 1})\n",
    "    \n",
    "    res = get_word_freqs('ana are mere ana')\n",
    "    assert(res == {'ana': 2, 'are': 1, 'mere': 1})\n",
    "    \n",
    "    res = get_word_freqs('1 a 2 b c 3 2 1')\n",
    "    assert(res == {'1': 2, 'a': 1, 'b': 1, '2': 2, 'c': 1, '3': 1})\n",
    "    \n",
    "    res = get_word_freqs('aaa bb')\n",
    "    assert(res == {'aaa': 1, 'bb': 1})"
   ]
  },
  {
   "cell_type": "code",
   "execution_count": 8,
   "metadata": {
    "collapsed": false
   },
   "outputs": [
    {
     "name": "stdout",
     "output_type": "stream",
     "text": [
      "test_get_word_freqs PASSED\n"
     ]
    }
   ],
   "source": [
    "test_get_word_freqs()\n",
    "print(\"test_get_word_freqs PASSED\")"
   ]
  },
  {
   "cell_type": "markdown",
   "metadata": {},
   "source": [
    "### Problema 3"
   ]
  },
  {
   "cell_type": "code",
   "execution_count": 9,
   "metadata": {
    "collapsed": true
   },
   "outputs": [],
   "source": [
    "def get_most_freq_word(text):\n",
    "    return max(get_word_freqs(text).items(), key=lambda x: x[1])[0]"
   ]
  },
  {
   "cell_type": "code",
   "execution_count": 10,
   "metadata": {
    "collapsed": false
   },
   "outputs": [
    {
     "data": {
      "text/plain": [
       "'unu'"
      ]
     },
     "execution_count": 10,
     "metadata": {},
     "output_type": "execute_result"
    }
   ],
   "source": [
    "get_most_freq_word('zero unu doi trei unu patru doi unu cinci')"
   ]
  },
  {
   "cell_type": "code",
   "execution_count": 11,
   "metadata": {
    "collapsed": false
   },
   "outputs": [],
   "source": [
    "def test_get_most_freq():\n",
    "    res = get_most_freq_word(\"zero unu doi trei unu patru doi unu cinci\")\n",
    "    assert(res == 'unu')\n",
    "    \n",
    "    res = get_most_freq_word('a a a b a b c')\n",
    "    assert(res == 'a')\n",
    "    \n",
    "    res = get_most_freq_word('ana are mere ana')\n",
    "    assert(res == 'ana')\n",
    "    \n",
    "    res = get_most_freq_word('1 a 2 b c 3 2 1 1')\n",
    "    assert(res =='1')\n",
    "    \n",
    "    res = get_most_freq_word('aaa bb aaa ba')\n",
    "    assert(res == 'aaa')"
   ]
  },
  {
   "cell_type": "code",
   "execution_count": 12,
   "metadata": {
    "collapsed": false
   },
   "outputs": [
    {
     "name": "stdout",
     "output_type": "stream",
     "text": [
      "test_get_most_freq PASSED\n"
     ]
    }
   ],
   "source": [
    "test_get_most_freq()\n",
    "print(\"test_get_most_freq PASSED\")"
   ]
  },
  {
   "cell_type": "markdown",
   "metadata": {},
   "source": [
    "### Problema 4"
   ]
  },
  {
   "cell_type": "code",
   "execution_count": 13,
   "metadata": {
    "collapsed": true
   },
   "outputs": [],
   "source": [
    "import re"
   ]
  },
  {
   "cell_type": "code",
   "execution_count": 14,
   "metadata": {
    "collapsed": true
   },
   "outputs": [],
   "source": [
    "def get_ngram_freqs(text, n):\n",
    "    # ?= in regexuri reprezinta \"egal dar nu consuma caracterele\"\n",
    "    ngrams = re.findall(r'(?=(\\w{%d}))' % n, text.replace(' ', ''))\n",
    "    freqs = {}\n",
    "    for ngram in ngrams:\n",
    "        freqs[ngram] = freqs.get(ngram, 0) + 1\n",
    "    return freqs"
   ]
  },
  {
   "cell_type": "code",
   "execution_count": 15,
   "metadata": {
    "collapsed": false
   },
   "outputs": [
    {
     "data": {
      "text/plain": [
       "{'abc': 2, 'bcd': 2, 'cdc': 1, 'cde': 2, 'dcd': 1, 'dea': 1, 'eab': 1}"
      ]
     },
     "execution_count": 15,
     "metadata": {},
     "output_type": "execute_result"
    }
   ],
   "source": [
    "get_ngram_freqs('abc deabcd cde', 3)"
   ]
  },
  {
   "cell_type": "code",
   "execution_count": 16,
   "metadata": {
    "collapsed": false
   },
   "outputs": [],
   "source": [
    "def test_get_ngram_freqs():\n",
    "    res = get_ngram_freqs('abc deabcd cde', 3)\n",
    "    assert(res == {'abc': 2, 'bcd': 2, 'cdc': 1, 'cde': 2, 'dcd': 1, 'dea': 1, 'eab': 1})\n",
    "    \n",
    "    res = get_ngram_freqs('abc deabcd cde', 1)\n",
    "    assert(res == {'a': 2, 'b': 2, 'c': 3, 'd': 3, 'e': 2})\n",
    "    \n",
    "    res = get_ngram_freqs('ana are merem', 3)\n",
    "    assert(res == {'aar': 1,\n",
    "                   'ana': 1, \n",
    "                   'are': 1, \n",
    "                   'eme': 1, \n",
    "                   'ere': 1, \n",
    "                   'mer': 1, \n",
    "                   'naa': 1, \n",
    "                   'rem': 2})\n",
    "    \n",
    "    res = get_ngram_freqs('12121', 3)\n",
    "    assert(res == {'121': 2, '212':1})\n",
    "    \n",
    "    res = get_ngram_freqs('ana are mere', 2)\n",
    "    assert(res == {'aa': 1, \n",
    "                   'an': 1, \n",
    "                   'ar': 1, \n",
    "                   'em': 1, \n",
    "                   'er': 1, \n",
    "                   'me': 1, \n",
    "                   'na': 1, \n",
    "                   're': 2})"
   ]
  },
  {
   "cell_type": "code",
   "execution_count": 17,
   "metadata": {
    "collapsed": false
   },
   "outputs": [
    {
     "name": "stdout",
     "output_type": "stream",
     "text": [
      "test_get_ngram_freqs PASSED\n"
     ]
    }
   ],
   "source": [
    "test_get_ngram_freqs()\n",
    "print(\"test_get_ngram_freqs PASSED\")"
   ]
  },
  {
   "cell_type": "markdown",
   "metadata": {},
   "source": [
    "### Problema 5"
   ]
  },
  {
   "cell_type": "code",
   "execution_count": 18,
   "metadata": {
    "collapsed": true
   },
   "outputs": [],
   "source": [
    "def get_most_freq_ngram(text, n):\n",
    "    return max(get_ngram_freqs(text, n).items(), key=lambda x: x[1])[0]"
   ]
  },
  {
   "cell_type": "code",
   "execution_count": 19,
   "metadata": {
    "collapsed": false
   },
   "outputs": [
    {
     "data": {
      "text/plain": [
       "'bcd'"
      ]
     },
     "execution_count": 19,
     "metadata": {},
     "output_type": "execute_result"
    }
   ],
   "source": [
    "get_most_freq_ngram('abc deabcd cdeb cda', 3)"
   ]
  },
  {
   "cell_type": "code",
   "execution_count": 20,
   "metadata": {
    "collapsed": true
   },
   "outputs": [],
   "source": [
    "def test_get_most_freq_ngram():\n",
    "    res = get_most_freq_ngram('abc deabcd cde', 3)\n",
    "    assert(res in ['abc', 'bcd', 'cde'])\n",
    "    \n",
    "    res = get_most_freq_ngram('abc deabcd cde', 1)\n",
    "    assert(res == 'c')\n",
    "    \n",
    "    res = get_most_freq_ngram('ana are merem', 3)\n",
    "    assert(res == 'rem')\n",
    "    \n",
    "    res = get_most_freq_ngram('12121', 3)\n",
    "    assert(res == '121')\n",
    "    \n",
    "    res = get_most_freq_ngram('ana are mere', 2)\n",
    "    assert(res == 're')"
   ]
  },
  {
   "cell_type": "code",
   "execution_count": 21,
   "metadata": {
    "collapsed": false
   },
   "outputs": [
    {
     "name": "stdout",
     "output_type": "stream",
     "text": [
      "test_get_most_freq_ngram PASSED\n"
     ]
    }
   ],
   "source": [
    "test_get_most_freq_ngram()\n",
    "print(\"test_get_most_freq_ngram PASSED\")"
   ]
  },
  {
   "cell_type": "code",
   "execution_count": null,
   "metadata": {
    "collapsed": true
   },
   "outputs": [],
   "source": [
    ""
   ]
  }
 ],
 "metadata": {
  "kernelspec": {
   "display_name": "Python 3",
   "language": "python",
   "name": "python3"
  },
  "language_info": {
   "codemirror_mode": {
    "name": "ipython",
    "version": 3.0
   },
   "file_extension": ".py",
   "mimetype": "text/x-python",
   "name": "python",
   "nbconvert_exporter": "python",
   "pygments_lexer": "ipython3",
   "version": "3.6.0"
  }
 },
 "nbformat": 4,
 "nbformat_minor": 0
}