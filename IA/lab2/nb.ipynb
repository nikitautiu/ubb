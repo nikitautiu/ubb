{
 "cells": [
  {
   "cell_type": "code",
   "execution_count": 1,
   "metadata": {
    "collapsed": false
   },
   "outputs": [],
   "source": [
    "import probs"
   ]
  },
  {
   "cell_type": "markdown",
   "metadata": {},
   "source": [
    "### Problema 1"
   ]
  },
  {
   "cell_type": "code",
   "execution_count": 2,
   "metadata": {
    "collapsed": false
   },
   "outputs": [
    {
     "data": {
      "text/plain": [
       "4"
      ]
     },
     "execution_count": 2,
     "metadata": {},
     "output_type": "execute_result"
    }
   ],
   "source": [
    "probs.chess_dist([1,2,3,4], [5,2,7,6])"
   ]
  },
  {
   "cell_type": "code",
   "execution_count": 3,
   "metadata": {
    "collapsed": true
   },
   "outputs": [],
   "source": [
    "def test_chess_dist():\n",
    "    assert probs.chess_dist([1,2,3,4], [5,2,7,6]) == 4\n",
    "    assert probs.chess_dist([1,2,3,11], [5,2,7,6]) == 5\n",
    "    assert probs.chess_dist([1,2,3], [5,2,6]) == 4\n",
    "    assert probs.chess_dist([1,2,3,4], [1,2,3,4]) == 0\n",
    "    assert probs.chess_dist([1,2,3,4], [1,2,3,5]) == 1"
   ]
  },
  {
   "cell_type": "code",
   "execution_count": 4,
   "metadata": {
    "collapsed": false
   },
   "outputs": [
    {
     "name": "stdout",
     "output_type": "stream",
     "text": [
      "test_chess_dist PASSED\n"
     ]
    }
   ],
   "source": [
    "test_chess_dist()\n",
    "print \"test_chess_dist PASSED\""
   ]
  },
  {
   "cell_type": "markdown",
   "metadata": {},
   "source": [
    "### Problema 2"
   ]
  },
  {
   "cell_type": "code",
   "execution_count": 5,
   "metadata": {
    "collapsed": false
   },
   "outputs": [
    {
     "data": {
      "text/plain": [
       "0.3333333333333333"
      ]
     },
     "execution_count": 5,
     "metadata": {},
     "output_type": "execute_result"
    }
   ],
   "source": [
    "probs.baycurtis_dist([1,2,3,4], [5,2,7,6])"
   ]
  },
  {
   "cell_type": "code",
   "execution_count": 6,
   "metadata": {
    "collapsed": true
   },
   "outputs": [],
   "source": [
    "def test_baycurtis_dist():\n",
    "    assert probs.baycurtis_dist([1,2,3,4], [5,2,7,6]) == 0.3333333333333333\n",
    "    assert probs.baycurtis_dist([1,2,3,11], [5,2,7,6]) == 0.35135135135135137\n",
    "    assert probs.baycurtis_dist([1,2,3], [5,2,6]) == 0.3684210526315789\n",
    "    assert probs.baycurtis_dist([1,2,3,4], [1,2,3,4]) == 0\n",
    "    assert probs.baycurtis_dist([1,2,3,4], [1,2,3,5]) == 0.047619047619047616"
   ]
  },
  {
   "cell_type": "code",
   "execution_count": 7,
   "metadata": {
    "collapsed": false
   },
   "outputs": [
    {
     "name": "stdout",
     "output_type": "stream",
     "text": [
      "test_baycurtis_dist PASSED\n"
     ]
    }
   ],
   "source": [
    "test_baycurtis_dist()\n",
    "print \"test_baycurtis_dist PASSED\""
   ]
  },
  {
   "cell_type": "markdown",
   "metadata": {},
   "source": [
    "### Problema 3"
   ]
  },
  {
   "cell_type": "code",
   "execution_count": 8,
   "metadata": {
    "collapsed": true
   },
   "outputs": [],
   "source": [
    "def test_sw_dist():\n",
    "    assert probs.sw_dist([0,0,0,0,0,1,2,3,0], [4,1,2,3,4,4,4,4]) == 3\n",
    "    assert probs.sw_dist([4,1,2,3,4,4,4,4], [4,1,2,3,4,4,4,4]) == 8\n",
    "    assert probs.sw_dist([4,1,2,3,4,4,4,4], [4,1,2,3,4,4])  == 6\n",
    "    assert probs.sw_dist([4,1,2,3,4,4,4,4], [4,1,2,3,33,4,4]) == 5\n",
    "    assert probs.sw_dist([4,1,2,3,4,4,4,4], [4,1,2,3, 1, 1,33,4,4]) == 4\n",
    "    "
   ]
  },
  {
   "cell_type": "code",
   "execution_count": 9,
   "metadata": {
    "collapsed": false
   },
   "outputs": [
    {
     "name": "stdout",
     "output_type": "stream",
     "text": [
      "test_sw_dist PASSED\n"
     ]
    }
   ],
   "source": [
    "test_sw_dist()\n",
    "print \"test_sw_dist PASSED\""
   ]
  },
  {
   "cell_type": "markdown",
   "metadata": {},
   "source": [
    "### Problema 4"
   ]
  },
  {
   "cell_type": "code",
   "execution_count": 10,
   "metadata": {
    "collapsed": false
   },
   "outputs": [
    {
     "data": {
      "text/plain": [
       "[6, 4, 2, 7, 3, 5]"
      ]
     },
     "execution_count": 10,
     "metadata": {},
     "output_type": "execute_result"
    }
   ],
   "source": [
    "list(probs.bfs([(6,4), (6,2), (6,7), (4, 3), (4, 5)]))"
   ]
  },
  {
   "cell_type": "code",
   "execution_count": 11,
   "metadata": {
    "collapsed": true
   },
   "outputs": [],
   "source": [
    "def test_bfs():\n",
    "    input = [(6,4), (6,2), (6,7), (4, 3), (4, 5)]\n",
    "    expected = [6, 4, 2, 7, 3, 5]\n",
    "    assert list(probs.bfs(input)) == expected\n",
    "    \n",
    "    input = [(6,4), (6,2), (6,7), (4, 3)]\n",
    "    expected = [6, 4, 2, 7, 3]\n",
    "    assert list(probs.bfs(input)) == expected\n",
    "    \n",
    "    input = [(6,4), (4, 3), (4, 5)]\n",
    "    expected = [6, 4, 3, 5]\n",
    "    assert list(probs.bfs(input)) == expected\n",
    "    \n",
    "    input = [(6,4), (4, 3), (3, 5)]\n",
    "    expected = [6, 4, 3, 5]\n",
    "    assert list(probs.bfs(input)) == expected\n",
    "    \n",
    "    input = [(6,4), (6,2), (6,7), (4, 3), (4, 5), (8, 6)]\n",
    "    expected = [8, 6, 4, 2, 7, 3, 5]\n",
    "    assert list(probs.bfs(input)) == expected"
   ]
  },
  {
   "cell_type": "code",
   "execution_count": 12,
   "metadata": {
    "collapsed": false
   },
   "outputs": [
    {
     "name": "stdout",
     "output_type": "stream",
     "text": [
      "test_bfs PASSED\n"
     ]
    }
   ],
   "source": [
    "test_bfs()\n",
    "print \"test_bfs PASSED\""
   ]
  },
  {
   "cell_type": "markdown",
   "metadata": {},
   "source": [
    "### Problema 4"
   ]
  },
  {
   "cell_type": "code",
   "execution_count": 13,
   "metadata": {
    "collapsed": false,
    "scrolled": true
   },
   "outputs": [
    {
     "data": {
      "text/plain": [
       "[6, 4, 3, 5, 2, 7]"
      ]
     },
     "execution_count": 13,
     "metadata": {},
     "output_type": "execute_result"
    }
   ],
   "source": [
    "list(probs.dfs([(6,4), (6,2), (6,7), (4, 3), (4, 5)]))"
   ]
  },
  {
   "cell_type": "code",
   "execution_count": 14,
   "metadata": {
    "collapsed": true
   },
   "outputs": [],
   "source": [
    "def test_dfs():\n",
    "    input = [(6,4), (6,2), (6,7), (4, 3), (4, 5)]\n",
    "    expected = [6, 4, 3, 5, 2, 7]\n",
    "    assert list(probs.dfs(input)) == expected\n",
    "    \n",
    "    input = [(6,4), (6,2), (6,7), (4, 3)]\n",
    "    expected = [6, 4, 3, 2, 7]\n",
    "    assert list(probs.dfs(input)) == expected\n",
    "    \n",
    "    input = [(6,4), (4, 3), (4, 5)]\n",
    "    expected = [6, 4, 3, 5]\n",
    "    assert list(probs.dfs(input)) == expected\n",
    "    \n",
    "    input = [(6,4), (4, 3), (3, 5)]\n",
    "    expected = [6, 4, 3, 5]\n",
    "    assert list(probs.dfs(input)) == expected\n",
    "    \n",
    "    input = [(6,4), (6,2), (6,7), (4, 3), (4, 5), (8, 6)]\n",
    "    expected = [8, 6, 4, 3, 5, 2, 7]\n",
    "    assert list(probs.dfs(input)) == expected"
   ]
  },
  {
   "cell_type": "code",
   "execution_count": 15,
   "metadata": {
    "collapsed": false
   },
   "outputs": [
    {
     "name": "stdout",
     "output_type": "stream",
     "text": [
      "test_dfs PASSED\n"
     ]
    }
   ],
   "source": [
    "test_dfs()\n",
    "print \"test_dfs PASSED\""
   ]
  }
 ],
 "metadata": {
  "kernelspec": {
   "display_name": "Python 2",
   "language": "python",
   "name": "python2"
  },
  "language_info": {
   "codemirror_mode": {
    "name": "ipython",
    "version": 2
   },
   "file_extension": ".py",
   "mimetype": "text/x-python",
   "name": "python",
   "nbconvert_exporter": "python",
   "pygments_lexer": "ipython2",
   "version": "2.7.13"
  }
 },
 "nbformat": 4,
 "nbformat_minor": 0
}
