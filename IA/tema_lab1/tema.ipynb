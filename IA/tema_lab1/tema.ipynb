{
 "cells": [
  {
   "cell_type": "markdown",
   "metadata": {},
   "source": [
    "## Tema AI - lab 1\n",
    "\n",
    "### Enunt(C2. Problema 5)\n",
    "Fiind date $n$ cuburi etichetate de la 1 la $n$, de laturi $L_i$ si culori $C_i$, $1 \\le i \\le n$, să se afișeze\n",
    "toate turnurile de $k$ cuburi care se pot forma, astfel încât cuburile din turn să aibe laturile\n",
    "în ordine descrescătoare de jos în sus, iar culorile cuburilor alăturate să fie diferite.\n",
    "\n",
    "### Formultare problema\n",
    "\n",
    "* **Spatiul starilor:** Toate n-uplurile de forma $(Cb_1, Cb_2, ..., Cb_m)$ unde $Cb_i$ este un cub apartinand celor date si $Cb_i$ are culoarea $C_i$ si lungime $L_i$\n",
    "* **Starea initiala:** $()$\n",
    "* **Starea finala:** $(Cb_1, Cb_2, ..., Cb_k)$ unde $C_i \\neq C_{i+1}$ si $L_i \\le L_{i+1}, i=\\overline{1\n",
    ",k-1}$, cuburile sunt unice\n",
    "* **Transformari:** se adauga un cub la capatul n-uplului\n",
    "\n",
    "### Rezolvarea problemei\n",
    "Problemase va rezolva folosind metoda backtracking. Se va incepe de la starea initială la care se vor aduga elemente care satisfac conditia de consistență a soluție(marimi cresactoare, culori diferite) pana cănd se va ajunge la o listă de lungime $k$ care se va returna."
   ]
  },
  {
   "cell_type": "code",
   "execution_count": 1,
   "metadata": {
    "collapsed": false
   },
   "outputs": [],
   "source": [
    "from backtracking import generate_towers, test_backtracking  # the solving function"
   ]
  },
  {
   "cell_type": "code",
   "execution_count": 2,
   "metadata": {
    "collapsed": false
   },
   "outputs": [
    {
     "name": "stdout",
     "output_type": "stream",
     "text": [
      "test_backtracking PASSED\n"
     ]
    }
   ],
   "source": [
    "test_backtracking()\n",
    "print 'test_backtracking PASSED'"
   ]
  },
  {
   "cell_type": "markdown",
   "metadata": {},
   "source": [
    "#### Exemplu:"
   ]
  },
  {
   "cell_type": "code",
   "execution_count": 3,
   "metadata": {
    "collapsed": false
   },
   "outputs": [
    {
     "data": {
      "text/plain": [
       "[((1, 1), (1, 2), (2, 3)),\n",
       " ((1, 1), (2, 2), (2, 3)),\n",
       " ((1, 1), (2, 3), (3, 2)),\n",
       " ((1, 2), (2, 3), (3, 2)),\n",
       " ((2, 2), (2, 3), (3, 2))]"
      ]
     },
     "execution_count": 3,
     "metadata": {},
     "output_type": "execute_result"
    }
   ],
   "source": [
    "list(generate_towers([(1, 1), (2, 2), (3, 2), (1, 2), (2, 3)], 3))"
   ]
  }
 ],
 "metadata": {
  "kernelspec": {
   "display_name": "Python 2",
   "language": "python",
   "name": "python2"
  },
  "language_info": {
   "codemirror_mode": {
    "name": "ipython",
    "version": 2
   },
   "file_extension": ".py",
   "mimetype": "text/x-python",
   "name": "python",
   "nbconvert_exporter": "python",
   "pygments_lexer": "ipython2",
   "version": "2.7.13"
  }
 },
 "nbformat": 4,
 "nbformat_minor": 0
}
