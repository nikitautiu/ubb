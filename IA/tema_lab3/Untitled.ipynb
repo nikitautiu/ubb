{
 "cells": [
  {
   "cell_type": "code",
   "execution_count": 24,
   "metadata": {
    "collapsed": false,
    "deletable": true,
    "editable": true
   },
   "outputs": [],
   "source": [
    "from genetic import JewelryGenetic\n",
    "import matplotlib.pyplot as plt\n",
    "import numpy as np"
   ]
  },
  {
   "cell_type": "code",
   "execution_count": 8,
   "metadata": {
    "collapsed": false,
    "deletable": true,
    "editable": true
   },
   "outputs": [],
   "source": [
    "alg = JewelryGenetic(10, [(5, 10), (6, 4), (7, 4), (3, 9), (1, 1)], )\n"
   ]
  },
  {
   "cell_type": "code",
   "execution_count": 9,
   "metadata": {
    "collapsed": false,
    "deletable": true,
    "editable": true
   },
   "outputs": [
    {
     "data": {
      "text/plain": [
       "[6,\n",
       " 8,\n",
       " 0,\n",
       " 31,\n",
       " 19,\n",
       " 14,\n",
       " 19,\n",
       " 24,\n",
       " 28,\n",
       " 10,\n",
       " 11,\n",
       " 6,\n",
       " 22,\n",
       " 23,\n",
       " 14,\n",
       " 20,\n",
       " 12,\n",
       " 10,\n",
       " 11,\n",
       " 18,\n",
       " 26,\n",
       " 10,\n",
       " 1,\n",
       " 8,\n",
       " 29,\n",
       " 7,\n",
       " 14,\n",
       " 4,\n",
       " 21,\n",
       " 4,\n",
       " 27,\n",
       " 23,\n",
       " 15,\n",
       " 22,\n",
       " 8,\n",
       " 6,\n",
       " 21,\n",
       " 11,\n",
       " 31,\n",
       " 14,\n",
       " 26,\n",
       " 18,\n",
       " 12,\n",
       " 23,\n",
       " 26,\n",
       " 15,\n",
       " 4,\n",
       " 26,\n",
       " 16,\n",
       " 16,\n",
       " 26,\n",
       " 13,\n",
       " 1,\n",
       " 22,\n",
       " 13,\n",
       " 2,\n",
       " 16,\n",
       " 1,\n",
       " 28,\n",
       " 11,\n",
       " 21,\n",
       " 5,\n",
       " 9,\n",
       " 10,\n",
       " 19,\n",
       " 26,\n",
       " 11,\n",
       " 16,\n",
       " 23,\n",
       " 30,\n",
       " 30,\n",
       " 19,\n",
       " 20,\n",
       " 13,\n",
       " 3,\n",
       " 31,\n",
       " 25,\n",
       " 0,\n",
       " 19,\n",
       " 12,\n",
       " 2,\n",
       " 27,\n",
       " 16,\n",
       " 31,\n",
       " 31,\n",
       " 25,\n",
       " 15,\n",
       " 16,\n",
       " 11,\n",
       " 11,\n",
       " 11,\n",
       " 16,\n",
       " 4,\n",
       " 31,\n",
       " 26,\n",
       " 12,\n",
       " 20,\n",
       " 10,\n",
       " 16,\n",
       " 7,\n",
       " 23,\n",
       " 7,\n",
       " 22,\n",
       " 20,\n",
       " 30,\n",
       " 29,\n",
       " 11,\n",
       " 29,\n",
       " 1,\n",
       " 13,\n",
       " 4,\n",
       " 2,\n",
       " 30,\n",
       " 6,\n",
       " 27,\n",
       " 6,\n",
       " 5,\n",
       " 30,\n",
       " 7,\n",
       " 14,\n",
       " 14,\n",
       " 17,\n",
       " 22,\n",
       " 1,\n",
       " 13,\n",
       " 31,\n",
       " 24,\n",
       " 0,\n",
       " 6,\n",
       " 12,\n",
       " 12,\n",
       " 24,\n",
       " 23,\n",
       " 31,\n",
       " 9,\n",
       " 2,\n",
       " 4,\n",
       " 8,\n",
       " 9,\n",
       " 19,\n",
       " 21,\n",
       " 21,\n",
       " 8,\n",
       " 28,\n",
       " 19,\n",
       " 28,\n",
       " 18,\n",
       " 27,\n",
       " 7,\n",
       " 14,\n",
       " 23,\n",
       " 25,\n",
       " 3,\n",
       " 28,\n",
       " 6,\n",
       " 23,\n",
       " 28,\n",
       " 0,\n",
       " 27,\n",
       " 18,\n",
       " 7,\n",
       " 23,\n",
       " 21,\n",
       " 19,\n",
       " 29,\n",
       " 6,\n",
       " 8,\n",
       " 13,\n",
       " 11,\n",
       " 22,\n",
       " 18,\n",
       " 15,\n",
       " 31,\n",
       " 10,\n",
       " 15,\n",
       " 28,\n",
       " 10,\n",
       " 17,\n",
       " 1,\n",
       " 9,\n",
       " 26,\n",
       " 10,\n",
       " 6,\n",
       " 3,\n",
       " 9,\n",
       " 5,\n",
       " 25,\n",
       " 18,\n",
       " 25,\n",
       " 28,\n",
       " 14,\n",
       " 10,\n",
       " 19,\n",
       " 16,\n",
       " 17,\n",
       " 19,\n",
       " 13,\n",
       " 11,\n",
       " 28,\n",
       " 26]"
      ]
     },
     "execution_count": 9,
     "metadata": {},
     "output_type": "execute_result"
    }
   ],
   "source": [
    "alg.generate_chromosomes()"
   ]
  },
  {
   "cell_type": "code",
   "execution_count": 10,
   "metadata": {
    "collapsed": false,
    "deletable": true,
    "editable": true
   },
   "outputs": [
    {
     "data": {
      "text/plain": [
       "'10'"
      ]
     },
     "execution_count": 10,
     "metadata": {},
     "output_type": "execute_result"
    }
   ],
   "source": [
    "'{:b}'.format(alg.get_mutated_chromosome(2))"
   ]
  },
  {
   "cell_type": "code",
   "execution_count": 11,
   "metadata": {
    "collapsed": false,
    "deletable": true,
    "editable": true
   },
   "outputs": [
    {
     "data": {
      "text/plain": [
       "5"
      ]
     },
     "execution_count": 11,
     "metadata": {},
     "output_type": "execute_result"
    }
   ],
   "source": [
    "alg.get_offspring_chromosome(7, 0)"
   ]
  },
  {
   "cell_type": "code",
   "execution_count": 45,
   "metadata": {
    "collapsed": false,
    "deletable": true,
    "editable": true
   },
   "outputs": [],
   "source": [
    "mean_fitnesses = []\n",
    "for result in alg.evolve(100):\n",
    "    mean_fitnesses.append(np.array([x[1] for x in result]).mean())"
   ]
  },
  {
   "cell_type": "code",
   "execution_count": 46,
   "metadata": {
    "collapsed": false,
    "deletable": true,
    "editable": true
   },
   "outputs": [
    {
     "data": {
      "image/png": "[encoded data removed]",
      "text/plain": [
       "<matplotlib.figure.Figure at 0x7f18d1d02810>"
      ]
     },
     "metadata": {},
     "output_type": "display_data"
    }
   ],
   "source": [
    "plt.plot(mean_fitnesses)\n",
    "plt.xlim([0, 40])\n",
    "plt.show()"
   ]
  },
  {
   "cell_type": "code",
   "execution_count": null,
   "metadata": {
    "collapsed": true
   },
   "outputs": [],
   "source": []
  }
 ],
 "metadata": {
  "kernelspec": {
   "display_name": "Python 2",
   "language": "python",
   "name": "python2"
  },
  "language_info": {
   "codemirror_mode": {
    "name": "ipython",
    "version": 2
   },
   "file_extension": ".py",
   "mimetype": "text/x-python",
   "name": "python",
   "nbconvert_exporter": "python",
   "pygments_lexer": "ipython2",
   "version": "2.7.13"
  }
 },
 "nbformat": 4,
 "nbformat_minor": 2
}
